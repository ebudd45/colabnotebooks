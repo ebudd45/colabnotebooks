{
  "nbformat": 4,
  "nbformat_minor": 0,
  "metadata": {
    "kernelspec": {
      "display_name": "Python 3",
      "language": "python",
      "name": "python3"
    },
    "language_info": {
      "codemirror_mode": {
        "name": "ipython",
        "version": 3
      },
      "file_extension": ".py",
      "mimetype": "text/x-python",
      "name": "python",
      "nbconvert_exporter": "python",
      "pygments_lexer": "ipython3",
      "version": "3.7.4"
    },
    "colab": {
      "name": "Colab Coding Intro.ipynb",
      "provenance": [],
      "collapsed_sections": [],
      "include_colab_link": true
    }
  },
  "cells": [
    {
      "cell_type": "markdown",
      "metadata": {
        "id": "view-in-github",
        "colab_type": "text"
      },
      "source": [
        "<a href=\"https://colab.research.google.com/github/jimmynewland/colabnotebooks/blob/main/Colab_Coding_Intro.ipynb\" target=\"_parent\"><img src=\"https://colab.research.google.com/assets/colab-badge.svg\" alt=\"Open In Colab\"/></a>"
      ]
    },
    {
      "cell_type": "markdown",
      "metadata": {
        "id": "ZoipcaDbnOVs"
      },
      "source": [
        "# Introduction to Coding\n",
        "This is a *Google Colab notebook* with blocks of code called *cells*. You can press shift+ENTER to *run* a cell and go on to the next one. You can also edit the code and run it again to see how the output changes.\n",
        "\n",
        "You'll see a popup window the first time saying \"Warning\". Don't worry, it's safe. Click on \"run anyway\".\n",
        "\n",
        "Try running the following cells by pressing SHIFT and ENTER (at the same time) for each one.\n",
        "\n",
        "*You won't hurt anything by experimenting. If you break it, close the tab and open the activity again to start over.*"
      ]
    },
    {
      "cell_type": "markdown",
      "metadata": {
        "id": "KZ69Io8AASv9"
      },
      "source": [
        "## Question 1\n",
        "**Include your name, period, and anyone helping you complete this.**"
      ]
    },
    {
      "cell_type": "markdown",
      "metadata": {
        "id": "-Aarwdq9VVeC"
      },
      "source": [
        "Double click here to answer:"
      ]
    },
    {
      "cell_type": "code",
      "metadata": {
        "id": "9pzfoAo0nOVy"
      },
      "source": [
        "# Click on this cell. Then, press SHIFT and ENTER at the same time.\n",
        "2+2"
      ],
      "execution_count": null,
      "outputs": []
    },
    {
      "cell_type": "code",
      "metadata": {
        "id": "sNCtHE28nOVz"
      },
      "source": [
        "# This is called a \"comment\". It's a message to other humans.\n",
        "# Starting with # tells the program not to read this line.\n",
        "# the program will run the next line since it doesn't start with #\n",
        "5-4"
      ],
      "execution_count": null,
      "outputs": []
    },
    {
      "cell_type": "code",
      "metadata": {
        "id": "Bgn6VeCgnOVz"
      },
      "source": [
        "# the following lines define variables called \"a\" and \"b\"\n",
        "a = 4\n",
        "b = 3\n",
        "\n",
        "# the next line shows us what a plus b is.\n",
        "a+b"
      ],
      "execution_count": null,
      "outputs": []
    },
    {
      "cell_type": "code",
      "metadata": {
        "id": "ong75j8RnOVz"
      },
      "source": [
        "c = a*a # this line calculates a times a and saves the result as a varialbe called \"c\"\n",
        "c       # this line tells the program to show us what \"c\" is."
      ],
      "execution_count": null,
      "outputs": []
    },
    {
      "cell_type": "code",
      "metadata": {
        "id": "7oNly8M4nOV0"
      },
      "source": [
        "# this coding language is called \"python\"\n",
        "d = \"I just coded in Python\" # yep you did!\n",
        "d"
      ],
      "execution_count": null,
      "outputs": []
    },
    {
      "cell_type": "markdown",
      "metadata": {
        "collapsed": true,
        "id": "CG1NanOwnOV0"
      },
      "source": [
        "Try editing some of the code above.\n",
        "- Edit some code to do a different calculation\n",
        "- Add a comment somehwere\n",
        "\n",
        "You can run a cell again by pressing shift+ENTER. "
      ]
    },
    {
      "cell_type": "code",
      "metadata": {
        "id": "z7ofDICJnOV0"
      },
      "source": [
        "# Can you figure out what ** does?\n",
        "e = b**a\n",
        "e"
      ],
      "execution_count": null,
      "outputs": []
    },
    {
      "cell_type": "markdown",
      "metadata": {
        "id": "dhaecoOdnOV0"
      },
      "source": [
        "# Markdown\n",
        "The cells above are *code cells* that let you to run code. This is a *markdown cell* that contains markdown text. That's text that isn't read as Python code. Instead, you can format markdown text to look nice.\n",
        "\n",
        "Double-click on this cell to see the markdown text underneath. Running a markdown cell turns it into pretty, formatted text.\n",
        "- here's a bullet point\n",
        "- and another list item in *italics* and **bold**.\n",
        "- this is a hyperlink to [my favorite thing on the web](https://www.youtube.com/watch?v=dQw4w9WgXcQ)\n",
        "- You can even embed images  \n",
        "![cute kitten](https://github.com/adamlamee/CODINGinK12/raw/master/notebooks/1dayoldkitten.png)  \n",
        "\n",
        "## Try this\n",
        "Double-click on this cell to see the code that formats this text. Make a few edits and press shift+ENTER to see the changes.\n",
        "\n",
        "Read more about [formatting the markdown text](https://help.github.com/articles/basic-writing-and-formatting-syntax/) in a cell, like this one, or go to Help > Markdown > Basic Writing and Formatting Text."
      ]
    },
    {
      "cell_type": "markdown",
      "metadata": {
        "id": "-aDc6rtlnOV1"
      },
      "source": [
        "---\n",
        "## Saving Your Work\n",
        "This is running on a server and deletes what you've done when you close this tab. To save your work for later use or analysis you have a few options:\n",
        "- File > \"Save a copy in Drive\" will save it to you Google Drive in a folder called \"Collaboratory\". You can run it later from there.  \n",
        "- Save an image to your computer of a graph or chart, right-click on it and select Save Image as ...\n",
        "\n",
        "## Credits\n",
        "This notebook is based on work by by [Adam LaMee](https://adamlamee.github.io/). See more of his activities and license info at [CODINGinK12.org](http://www.codingink12.org)."
      ]
    }
  ]
}