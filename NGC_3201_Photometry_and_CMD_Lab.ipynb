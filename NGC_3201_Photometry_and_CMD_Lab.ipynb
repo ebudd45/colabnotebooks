{
  "nbformat": 4,
  "nbformat_minor": 0,
  "metadata": {
    "kernelspec": {
      "display_name": "Python 3",
      "language": "python",
      "name": "python3"
    },
    "language_info": {
      "codemirror_mode": {
        "name": "ipython",
        "version": 3
      },
      "file_extension": ".py",
      "mimetype": "text/x-python",
      "name": "python",
      "nbconvert_exporter": "python",
      "pygments_lexer": "ipython3",
      "version": "3.6.8"
    },
    "colab": {
      "name": "NGC 3201 Photometry and CMD Lab.ipynb",
      "provenance": [],
      "collapsed_sections": [],
      "include_colab_link": true
    }
  },
  "cells": [
    {
      "cell_type": "markdown",
      "metadata": {
        "id": "view-in-github",
        "colab_type": "text"
      },
      "source": [
        "<a href=\"https://colab.research.google.com/github/jimmynewland/colabnotebooks/blob/main/NGC_3201_Photometry_and_CMD_Lab.ipynb\" target=\"_parent\"><img src=\"https://colab.research.google.com/assets/colab-badge.svg\" alt=\"Open In Colab\"/></a>"
      ]
    },
    {
      "cell_type": "markdown",
      "metadata": {
        "id": "Sfy3RMEsm9UL"
      },
      "source": [
        "# Measuring distance with light\n",
        "## RR Lyrae Stars as Standard Candles"
      ]
    },
    {
      "cell_type": "markdown",
      "metadata": {
        "id": "w8FfOBmJm9UN"
      },
      "source": [
        "How can we measure astronomical distances? One technique is to use \"standard candles\", which are astronomical objects that have well-known brightnesses. By measuring how bright an object appears to us and knowing the actual brightness from some analysis, we can work out how far the object is from us. We employ the \"inverse square law\" for light to make this happen and do a bit of math.\n",
        "\n",
        "<p style=\"text-align:center\"><a href=\"https://i1.wp.com/www.jimmynewland.com/wp/wp-content/uploads/2018/03/ngc3201-rrlyrae.gif?zoom=2&resize=740%2C416\"><img src=\"https://i1.wp.com/www.jimmynewland.com/wp/wp-content/uploads/2018/03/ngc3201-rrlyrae.gif?zoom=2&resize=740%2C416\" width=\"85%\" /></a> \n",
        "\n",
        "Look for the variable stars. They seem to blink.</p>\n",
        "\n",
        "## Need more on how we use variable stars to measure distance?\n",
        "If you are new to the idea of variable stars as tools for measuring distances, start with these:\n",
        "* [OpenStax Astronomy: Variable Stars - One Key to Cosmic Distances](https://cnx.org/contents/LnN76Opl@21.8:vdWWIntw@8/19-3-Variable-Stars-One-Key-to-Cosmic-Distances). \n",
        "* [Measuring the the Milky Way with RR Lyrae Stars, a presentation by J Newland](https://docs.google.com/presentation/d/18IaOORqe0qh4A5u7A5SULAgiyDVl1sOz0sP0g7rmOns/edit?usp=sharing) "
      ]
    },
    {
      "cell_type": "markdown",
      "metadata": {
        "id": "ccNGJpHKm9UO"
      },
      "source": [
        "## Inverse Square Law\n",
        "When light leaves the surface of an astronomical object, like a star's photosphere, the resulting light spreads out radially in all directions at the speed of light. All the energy emitted at that same instant can be thought of as being spread out over surface of a sphere. As this imaginary sphere gets bigger, the light gets more spread out. This is why distance matters when looking at a light source. Note the equation for the surface area of a sphere:\n",
        "\\begin{equation*}\n",
        "A=4\\pi{R^2}\n",
        "\\end{equation*}\n",
        "The closer you are, the more concentrated the light is because the sphere over which it is spread is smaller (smaller radius, R). The farther you get from the source, the bigger the sphere must be when it reaches you (larger radius, R) and consequently, the light is spread out more and so the source seems dimmer.\n",
        "<img src=\"https://upload.wikimedia.org/wikipedia/commons/thumb/2/28/Inverse_square_law.svg/2560px-Inverse_square_law.svg.png\" width=\"50%\" /> <p style=\"text-align:center\">Illustration of inverse square law.</p>\n",
        "\n",
        "The physical properties of electromagnetic radiation eminating from a star or other astronomical object is best described using flux which is related to power which is related to energy. Another common way to describe light leaving an astronomical object is through the concept of luminosity. The Stefan-Boltzman relation connections the energy density of a star (how much energy leaves 1 square meter of the star's surfce) and the star's temperature.\n",
        "\n",
        "\\begin{equation*}\n",
        "L=\\sigma{T^4}\\>[\\mathbf{W/m^2}]\n",
        "\\end{equation*}\n",
        "\n",
        "We can find the power emitted by the star if we include the entire spherical surface of the star\n",
        "\n",
        "\\begin{equation*}\n",
        "L=\\sigma{T^4}(4\\pi{R^2})\\>[\\mathbf{W}]\n",
        "\\end{equation*}\n",
        "\n",
        "Don't forget that astronomers can determine the surface temperature of a star using Wien's law. Once the peak wavelength of the light from the star is found, we can get the temperature using the relation:\n",
        "\n",
        "\\begin{equation*}\n",
        "\\lambda_{peak}\\cdot{T}=constant\\>[\\mathbf{m\\cdot{K}}]\n",
        "\\end{equation*}\n",
        "\n",
        "## Magnitude vs Luminosity\n",
        "For historical and convenience reasons, astronomers use a system called magnitude dating back to Hipparcos which uses the star Vega as a reference star. There are many peculiarlities with magnitude. For example a negative magnitude represents a brighter object than does a positive magnitude. Another useful point is that just using light from an image, astronomers can quickly measure the magnitude as seen from earth, the apparent magnitude. That leaves some work to do to get turn the physical brightness or luminosity of the object into the absolute magnitude. The magnitude scale is clunky but still in use - for now."
      ]
    },
    {
      "cell_type": "markdown",
      "source": [
        "##***--->All RR Lyrae stars have an absolute magnitude of 0.75.<---***"
      ],
      "metadata": {
        "id": "2o8MBWlkD-_p"
      }
    },
    {
      "cell_type": "markdown",
      "metadata": {
        "id": "Xv71YBjOm9UO"
      },
      "source": [
        "## Globular Clusters\n",
        "A globular cluster is a very old grouping of stars usually found in the halo or the central region of a galaxy. NGC 3201 is one such globular cluster found in the Milky Way Galaxy. The images used for this activity were taken using the [Skynet Robitic Telescope Network](https://skynet.unc.edu/) run by the University of North Carolina. Yes... they called a robotic telescope system Skynet. The globular cluster was imaged 5 times in a single night by the system. This way, any star that has a periodic change of a day or so will show up in the series of images.\n",
        "\n",
        "<p style=\"text-align:center\">\n",
        "<img src=\"https://i0.wp.com/www.jimmynewland.com/wp/wp-content/uploads/2019/07/ngc-3201.jpg\" width=\"75%\" />\n",
        "<br />Globular Cluster NGC 3201</p>\n",
        "\n",
        "For this activity, we are going to study images taken of a variable star in a globular cluster over a single night. This star is known as an RR Lyrae variable star which varies over a period of less than one day. All stars that fall into this class have approximately the same absolute luminosity. That means if all RR Lyrae stars were the same distance from the observer, they would all appear the same brightness.\n",
        "\n",
        "But stars are, of course, spread out across a galaxy and ours is no exception. So RR Lyrae stars appear to be different brightnesses due to their distances. "
      ]
    },
    {
      "cell_type": "markdown",
      "metadata": {
        "id": "qKB0ILNPm9UP"
      },
      "source": [
        "## Choosing a target\n",
        "We will study [one such star](http://simbad.u-strasbg.fr/simbad/sim-id?Ident=Cl*+NGC+3201+++++LS+++++358&NbIdent=1) in a globular cluster visible from Earth's southern hemisphere.\n",
        "\n",
        "In order to determine the magnitude of the star, we will need a [known calibration star](http://simbad.u-strasbg.fr/simbad/sim-id?Ident=Cl*+NGC+3201+++CWFD++3-106&NbIdent=1) that is in the field and near the target star. Note that here we have zoomed in a lot on our target star. At this level in this image the only things visible are stars (no galaxies or such) and almost every star visible is a part of the globular cluster.\n",
        "<p style=\"text-align:center\">\n",
        "<a href=\"https://i1.wp.com/www.jimmynewland.com/wp/wp-content/uploads/2019/08/rr-lryae-zoom.gif\"><img src=\"https://i1.wp.com/www.jimmynewland.com/wp/wp-content/uploads/2019/08/rr-lryae-zoom.gif\" width=\"75%\" /></a><br />\n",
        "Zooming in on the target.</p>"
      ]
    },
    {
      "cell_type": "markdown",
      "metadata": {
        "id": "AWwKSXxJm9UQ"
      },
      "source": [
        "Using the [Aladin Sky Atlas](https://aladin.u-strasbg.fr/), we can overlay data from previous surveys onto the image we took. Note the cirlcles and labels. Some objects have known proper motion values and some are known to be variable stars.\n",
        "\n",
        "<p style=\"text-align:center\"><a href=\"https://i1.wp.com/www.jimmynewland.com/wp/wp-content/uploads/2019/08/field_zoomed.png\">\n",
        "<img src=\"https://i1.wp.com/www.jimmynewland.com/wp/wp-content/uploads/2019/08/field_zoomed.png\" width=\"75%\" /></a><br />\n",
        "Image loaded into Aladin Sky Atlas with with Simbad source data overlaid.</p>\n",
        "\n",
        "Note the types of objects seen:\n",
        "* inCl* - source is a star and part of the cluster.\n",
        "* BlueStraggler - source is likely result of smaller, redder [stars merging](http://astronomy.swin.edu.au/cosmos/b/blue+stragglers). More on these later in the lab.\n",
        "* RGB* - source is a star that has left the main sequence and moved to the [red giant branch](http://astronomy.swin.edu.au/cosmos/H/Horizontal+Branch+stars) of the HR diagram\n",
        "* RRLyr - source is a variable star similar to [RR Lyrae](http://astronomy.swin.edu.au/cosmos/R/RR+Lyrae) with a period less than one day and a known absolute magnitude\n",
        "* Star - source is a star and not necessarily a member of the cluster\n",
        "* X - source is an X-ray emitter such as a pulsar (neutron star), or black hole.\n",
        "\n",
        "\n",
        "<p style=\"text-align:center\"><a href=\"https://i1.wp.com/www.jimmynewland.com/wp/wp-content/uploads/2019/08/sources_zoomed.png\">\n",
        "<img src=\"https://i1.wp.com/www.jimmynewland.com/wp/wp-content/uploads/2019/08/sources_zoomed.png\" width=\"75%\" /></a><br />\n",
        "List of targets visible in the field above.</p>"
      ]
    },
    {
      "cell_type": "markdown",
      "source": [
        "#Question 1: Who are you?"
      ],
      "metadata": {
        "id": "xBsp_sf65-Ty"
      }
    },
    {
      "cell_type": "markdown",
      "source": [
        "Double click this line and put your name(s) and the period you're in."
      ],
      "metadata": {
        "id": "st9xl79w6Gci"
      }
    },
    {
      "cell_type": "markdown",
      "source": [
        "#Question 2: What is the period of an RR Lyrae star in days? \n",
        "\n",
        "Use your [notes from class](https://openstax.org/books/astronomy/pages/19-3-variable-stars-one-key-to-cosmic-distances#OSC_Astro_19_03_Period) for this!"
      ],
      "metadata": {
        "id": "BWI-ghee6Lxn"
      }
    },
    {
      "cell_type": "markdown",
      "source": [
        "Double click here to answer: "
      ],
      "metadata": {
        "id": "tvc8nxks6bFV"
      }
    },
    {
      "cell_type": "markdown",
      "source": [
        "#Question 3: What is the absolute magnitude of an RR Lyrae star?"
      ],
      "metadata": {
        "id": "y7VBM4Q06eG_"
      }
    },
    {
      "cell_type": "markdown",
      "source": [
        "Double click here to answer. Hint: it's written in the description at the top."
      ],
      "metadata": {
        "id": "kjgaAkg09LcB"
      }
    },
    {
      "cell_type": "code",
      "metadata": {
        "scrolled": false,
        "id": "u55rS3njm9UX"
      },
      "source": [
        "# DON'T FORGET TO RUN EACH BLOCK!\n",
        "# Import modules that contain functions we need\n",
        "import pandas as pd # pandas is common for data science\n",
        "import numpy as np #N umPy is used a lot in science\n",
        "import math # we need the math class for pi\n",
        "\n",
        "# The MatplotLib package is extremely useful and very common for making plots \n",
        "# and displaying images.\n",
        "import matplotlib.pyplot as plt\n",
        "\n",
        "# Let's make Colab and Matplotlib work together\n",
        "%matplotlib inline"
      ],
      "execution_count": null,
      "outputs": []
    },
    {
      "cell_type": "code",
      "source": [
        "# Read in data that will be used for the calculations.\n",
        "data1 = pd.read_csv(\"https://jimmynewland.com/astronomy/ngc-3201/ngc_3201_v14_mag_data.csv\")"
      ],
      "metadata": {
        "id": "z7BLOg2O_54N"
      },
      "execution_count": null,
      "outputs": []
    },
    {
      "cell_type": "code",
      "source": [
        "# Here we are using the \"head\" command from the pandas library to print out\n",
        "# he five measured apparent magnitudes for our target RR Lyrae star\n",
        "data1.head(5)"
      ],
      "metadata": {
        "id": "8yIkwHbfALMi"
      },
      "execution_count": null,
      "outputs": []
    },
    {
      "cell_type": "markdown",
      "metadata": {
        "id": "1P1wApqEm9Uf"
      },
      "source": [
        "## Distance Modulus\n",
        "If the apparent magnitude and the absolute magnitude of a source are known, once can determine the distance to the source in parsecs using the [distance modulus](https://astro.unl.edu/naap/distance/distance_modulus.html) relation. Small m is the apparent magnitude of the source. Big M is the absolute magnitude of the source. The distance is then d. Note the base of the logarithm is 10 in this case. The distance modulus is logarithmic in nature but it is also based on historical uses of magnitudes. Hence a distance modulus of 5 corresponds to a distance of 100 pc. The absolute magnitude scale is based on objects all being located 100 pc away from the viewer. Another example: a magnitude 1 star is exactly 100 times brighter than a magnitude 6 star.\n",
        "\\begin{equation*}\n",
        "m - M = -5 + 5\\cdot log_{10}(d)\n",
        "\\end{equation*}"
      ]
    },
    {
      "cell_type": "markdown",
      "metadata": {
        "id": "R4nDVtPom9Ug"
      },
      "source": [
        "# Coding and Questions\n",
        "* Follow the directions and answer the questions listed in the comments of a given block of code.\n",
        "* Don't be afraid to experiment! This is an interactive lesson using coding. There is always the undo button!\n",
        "* The code used here is Python 3 which is common for scientific computing. This isn't the only language used in science by any means. It just works well for our purposes here.\n",
        "* Answer questions directly in the code block using comments. That will be part of your finished product!\n",
        "* The # means just that line is a comment\n",
        "* The \"\"\" ... \"\"\" means everthing between the triple quotes is a comment and can span multiple lines."
      ]
    },
    {
      "cell_type": "code",
      "metadata": {
        "scrolled": false,
        "id": "NAaLGEd_m9Ul"
      },
      "source": [
        "\"\"\" \n",
        "    Function to find the distance of an astronomical object in parsecs \n",
        "    if given the apparent, m, and absolute, M, magnitudes of the object.\n",
        "\n",
        "    Use some algebra and re-arrange the distance modulus equation to return \n",
        "    the distance in parsecs of the object\n",
        "    Don't forget how exponents work: x^2 (x squared) would be written as x**2\n",
        "\"\"\"\n",
        "def distance_modulus(m,M):\n",
        "    return 1 # Fix this to actually return the value correctly"
      ],
      "execution_count": null,
      "outputs": []
    },
    {
      "cell_type": "markdown",
      "source": [
        "#Question 4"
      ],
      "metadata": {
        "id": "w9uzB_-VFJYe"
      }
    },
    {
      "cell_type": "code",
      "metadata": {
        "scrolled": false,
        "id": "HbjXo-y7m9Un"
      },
      "source": [
        "\"\"\"\n",
        "    Testing the distance modulus: should be approximately 1.0 AU for the Sun\n",
        "        m = -26.76 and M =4.81\n",
        "    There are 648000 arcseconds in 180 degrees of arc. \n",
        "    Why do we need that conversion here?\n",
        "    (HINT: What are the distance units we use for distance modulus?)\n",
        "    -----> ANSWER HERE: \n",
        "    Is your result close enough to be useful? How can you tell?\n",
        "    Compare your result with another student.\n",
        "\n",
        "    This code should measure the distance of the sun in AUs.\n",
        "    distance_modulus(-26.76,4.81)*648000/math.pi\n",
        "\"\"\"\n",
        "print('print the distance to the sun using the code in the comments above')"
      ],
      "execution_count": null,
      "outputs": []
    },
    {
      "cell_type": "code",
      "metadata": {
        "scrolled": false,
        "id": "DXo7Q47Rm9V1"
      },
      "source": [
        "# Print out the list of determined magnitudes for target star from the 5 images.\n",
        "# Note the more negative a magnitude is, the brighter.\n",
        "# Did the star vary in brightness over the 5 images as we expect for an RR Lyrae?\n",
        "# Do the magnitudes make sense? Are any way brighter or dimmer than the others?\n",
        "print(data1)"
      ],
      "execution_count": null,
      "outputs": []
    },
    {
      "cell_type": "markdown",
      "source": [
        "#Question 5"
      ],
      "metadata": {
        "id": "niRuYRJ1FhtB"
      }
    },
    {
      "cell_type": "code",
      "metadata": {
        "scrolled": false,
        "id": "s-ApHuHQm9V4"
      },
      "source": [
        "# You should select the brightest magnitude to use in the distance modulus calculation\n",
        "\n",
        "# The command data1['App Mag'].max will return the largest value in the list.\n",
        "# The command data1['App Mag'].mean will return the mean of the values.\n",
        "# The command data1['App Mag'].max will return the smallest value in the list.\n",
        "\n",
        "# Why would we want the smallest magnitude if we want the brightest one from the list?\n",
        "#------> Answer here: \n",
        "brightest = 1 # Fix this to store the mininum value from the list.\n",
        "\n",
        "# Now find the dimmest apparent magnitude from our list.\n",
        "dimmest = 1 # Fix this to store the maximum value from the list.\n",
        "\n",
        "# Determine the mean apparent magnitude for our target star.\n",
        "m_mean = 1 # Fix this to store the mean of the values.\n",
        "\n",
        "# Print the brightest, dimmest, and mean apparent magnitude.\n",
        "print(brightest, dimmest, m_mean)"
      ],
      "execution_count": null,
      "outputs": []
    },
    {
      "cell_type": "markdown",
      "metadata": {
        "id": "-uURoLfjm9V8"
      },
      "source": [
        "## How far away is NGC 3201?\n",
        "According to [other researchers](http://spider.seds.org/spider/MWGC/n3201.html), the distance to NGC 3201 is 16 kly or 4.9 kpc. How does our analysis compare?"
      ]
    },
    {
      "cell_type": "code",
      "source": [
        "# M is the absolute magnitude of our target star. Put that here.\n",
        "M = 1 # Go find the absolute magnitude from way up in the document\n",
        "\n",
        "# m is the apparent magnitude of our target star. Use the brightest magnitude.\n",
        "m = 1 # Set this equal to the brightest magnitude."
      ],
      "metadata": {
        "id": "H0VJUSDXBOJA"
      },
      "execution_count": null,
      "outputs": []
    },
    {
      "cell_type": "markdown",
      "source": [
        "#Question 6a"
      ],
      "metadata": {
        "id": "L7BYiPAoFoJN"
      }
    },
    {
      "cell_type": "code",
      "metadata": {
        "scrolled": false,
        "id": "KOBrW_nXm9V9"
      },
      "source": [
        "# Finally we find the distance to the globular cluster based on our analysis.\n",
        "# Convert the given distance from pc to kpc like this:\n",
        "# distance_modulus(m,M)/1000\n",
        "distance = 1\n",
        "\n",
        "# Round the distance to 2 decimal places and store that as a string.\n",
        "rounded_distance = str(np.round(distance, 2))\n",
        "\n",
        "# Print the distance in kpc .\n",
        "print('Distance to NGC 3201: '+rounded_distance+' kpc')"
      ],
      "execution_count": null,
      "outputs": []
    },
    {
      "cell_type": "markdown",
      "source": [
        "#Question 6b"
      ],
      "metadata": {
        "id": "IuMalCvNQYmo"
      }
    },
    {
      "cell_type": "markdown",
      "source": [
        "What are the distances if you use the mean magnitude and the dimmest magnitude?\n",
        "Run the code to get the answers."
      ],
      "metadata": {
        "id": "iYWb3zs5Qa3g"
      }
    },
    {
      "cell_type": "code",
      "source": [
        "# Try this code: distance_modulus(dimmest,M)/1000\n",
        "max_distance = 1\n",
        "print(max_distance)\n",
        "\n",
        "# Try this code: distance_modulus(m_mean,M)/1000\n",
        "mean_distance = 1\n",
        "print(mean_distance)"
      ],
      "metadata": {
        "id": "1KUPUAmtQkEW"
      },
      "execution_count": null,
      "outputs": []
    },
    {
      "cell_type": "markdown",
      "source": [
        "# Make a color-magnitude diagram for NGC 3201"
      ],
      "metadata": {
        "id": "RVxN3iHRVvvA"
      }
    },
    {
      "cell_type": "code",
      "source": [
        "# Read the Gaia data on this star cluster. This was gathered using Aladin.\n",
        "data2 = pd.read_csv(\"https://jimmynewland.com/astronomy/ngc-3201/ngc_3201_mag_b_v_gaia.csv\")"
      ],
      "metadata": {
        "id": "7Gyoz504YDqg"
      },
      "execution_count": null,
      "outputs": []
    },
    {
      "cell_type": "code",
      "source": [
        "# Check out the first few rows and see the column headings we will use.\n",
        "data2.head()"
      ],
      "metadata": {
        "id": "-7pIQK8xYMWn"
      },
      "execution_count": null,
      "outputs": []
    },
    {
      "cell_type": "markdown",
      "source": [
        "#Question 7"
      ],
      "metadata": {
        "id": "Do1BxzzxFrQ9"
      }
    },
    {
      "cell_type": "markdown",
      "source": [
        "Plot a color-magnitude diagram for the globular cluster NGC 3201. The x axis should be the color index which is already stored in the data2 column labeled <code>'b-r'</code>"
      ],
      "metadata": {
        "id": "K3PD9beLAxqv"
      }
    },
    {
      "cell_type": "code",
      "source": [
        "fig, ax = plt.subplots(figsize=(4,3), dpi=180)\n",
        "\n",
        "# Set x to the column name from data2 for color index.\n",
        "# Set y to green magnitude colum from data2.\n",
        "x = 1\n",
        "y = 1\n",
        "\n",
        "plt.scatter(x, y, s=1)\n",
        "ax.invert_yaxis()\n",
        "\n",
        "ax.set_title('Good title please')\n",
        "ax.set_xlabel('what are we using for temperature')\n",
        "ax.set_ylabel('what are we using for magnitude')\n",
        "\n",
        "plt.show()"
      ],
      "metadata": {
        "id": "WIm2TypcYP2P"
      },
      "execution_count": null,
      "outputs": []
    },
    {
      "cell_type": "markdown",
      "source": [
        "#Blue Stragglers\n",
        "\n",
        "The clump of stars at a color index of 1 and near magnitude 18 make up the only part of the main sequence seen here. The Gaia spacecraft can't see magnitudes dimmer than about 20.\n",
        "\n",
        "What is seen here at the center bottom is essentially the main sequence turn off point.\n",
        "\n",
        "What about the stars that aren't on the horizontal giant branch and aren't in the main sequence clump but are instead above and to the left of the main sequence clump?\n",
        "\n",
        "These stars appear to be main sequence stars that somehow have lasted longer than the other stars of this same mass. But it is an illusion. These are called blue straggler stars. Imagine two sun-like stars are so close together in a globular cluster that they actually merge and become one, more massive star."
      ],
      "metadata": {
        "id": "ly6hMnQhMIcg"
      }
    },
    {
      "cell_type": "markdown",
      "source": [
        "#Question 8"
      ],
      "metadata": {
        "id": "qpgm3rMLNSv_"
      }
    },
    {
      "cell_type": "markdown",
      "source": [
        "About how many stars are in this zone above and to the left of the main sequence and below the horizontal branch? Look around color index 0.75 and magnitude 17.\n",
        "\n",
        "Answer: "
      ],
      "metadata": {
        "id": "ll9AVSWXNT-o"
      }
    },
    {
      "cell_type": "markdown",
      "source": [
        "#Question 9\n",
        "Create a plot of right ascension (RA) versus declination (DEC). "
      ],
      "metadata": {
        "id": "iYFOZUyxES_K"
      }
    },
    {
      "cell_type": "code",
      "source": [
        "fig, ax = plt.subplots(figsize=(10,10), dpi=90)\n",
        "\n",
        "# Set x and y to the RA and DEC from the data2 dataframe.\n",
        "x = 1\n",
        "y = 1\n",
        "\n",
        "plt.scatter(x, y, s=5)\n",
        "\n",
        "ax.set_title('Good title please')\n",
        "ax.set_xlabel('Put something here')\n",
        "ax.set_ylabel('Change me to something correct')\n",
        "plt.grid()\n",
        "\n",
        "plt.show()"
      ],
      "metadata": {
        "id": "Kj100wpFDxFm"
      },
      "execution_count": null,
      "outputs": []
    },
    {
      "cell_type": "markdown",
      "source": [
        "What are the approximate RA and DEC for the 2 most unlikely candidates to be in this cluster?\n",
        "\n",
        "Answer: \n"
      ],
      "metadata": {
        "id": "SaL7HYFTEM9x"
      }
    },
    {
      "cell_type": "markdown",
      "metadata": {
        "id": "PbbhWJuem9V_"
      },
      "source": [
        "# Wrap up\n",
        "Be sure to submit your final work! From within Google Colab, you can select \n",
        "* File->Print->Save as PDF \n",
        "and you'll get a PDF you can submit as your finished product. Be sure to keep a copy of the final output in your Google Drive just in case you need to submit it again."
      ]
    },
    {
      "cell_type": "markdown",
      "metadata": {
        "id": "G9INSIAMm9WA"
      },
      "source": [
        "# References"
      ]
    },
    {
      "cell_type": "markdown",
      "metadata": {
        "id": "cWvLyZHkm9WC"
      },
      "source": [
        "* Be sure to check out my original [observational project](http://www.jimmynewland.com/wp/astro/measuring-rr-lyrae-stars-in-ngc-3201/)\n",
        "For more information, contact [Jimmy Newland](https://jimmynewland.com/)\n",
        "\n",
        "<a rel=\"license\" href=\"http://creativecommons.org/licenses/by-nc-sa/4.0/\"><img alt=\"Creative Commons License\" style=\"border-width:0\" src=\"https://i.creativecommons.org/l/by-nc-sa/4.0/80x15.png\" /></a><br />This work is licensed under a <a rel=\"license\" href=\"http://creativecommons.org/licenses/by-nc-sa/4.0/\">Creative Commons Attribution-NonCommercial-ShareAlike 4.0 International License</a>."
      ]
    }
  ]
}